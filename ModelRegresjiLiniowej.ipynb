{
  "nbformat": 4,
  "nbformat_minor": 0,
  "metadata": {
    "colab": {
      "name": "Untitled2.ipynb",
      "provenance": [],
      "authorship_tag": "ABX9TyPdrgI+1/Qs8XnhY0Vri95Q",
      "include_colab_link": true
    },
    "kernelspec": {
      "name": "python3",
      "display_name": "Python 3"
    },
    "language_info": {
      "name": "python"
    }
  },
  "cells": [
    {
      "cell_type": "markdown",
      "metadata": {
        "id": "view-in-github",
        "colab_type": "text"
      },
      "source": [
        "<a href=\"https://colab.research.google.com/github/Aeroo1/Papier-Kamie-No-yce/blob/main/ModelRegresjiLiniowej.ipynb\" target=\"_parent\"><img src=\"https://colab.research.google.com/assets/colab-badge.svg\" alt=\"Open In Colab\"/></a>"
      ]
    },
    {
      "cell_type": "code",
      "metadata": {
        "colab": {
          "base_uri": "https://localhost:8080/"
        },
        "id": "NWPx_g8cLcuL",
        "outputId": "45e28516-1a3e-4a2d-ff81-ce97ec14d7ff"
      },
      "source": [
        "import pandas as pd\n",
        "from sklearn import linear_model\n",
        "from sklearn.datasets import load_iris\n",
        "import statsmodels.api as sm\n",
        "\n",
        "iris = load_iris()\n",
        "df = pd.DataFrame(iris.data, columns=iris.feature_names)\n",
        "\n",
        "Y = df[\"sepal length (cm)\"]\n",
        "X = df[[\"sepal width (cm)\",\"petal length (cm)\"]]"
      ],
      "execution_count": 1,
      "outputs": [
        {
          "output_type": "stream",
          "text": [
            "/usr/local/lib/python3.7/dist-packages/statsmodels/tools/_testing.py:19: FutureWarning: pandas.util.testing is deprecated. Use the functions in the public API at pandas.testing instead.\n",
            "  import pandas.util.testing as tm\n"
          ],
          "name": "stderr"
        }
      ]
    },
    {
      "cell_type": "code",
      "metadata": {
        "colab": {
          "base_uri": "https://localhost:8080/"
        },
        "id": "aiqUEN7tLl2Y",
        "outputId": "17666d9b-06ef-4434-a30d-131533527f4c"
      },
      "source": [
        "regr = linear_model.LinearRegression()\n",
        "regr.fit(X, Y)\n",
        "\n",
        "print('Intercept: \\n', regr.intercept_)\n",
        "print('Coefficients: \\n', regr.coef_)"
      ],
      "execution_count": 2,
      "outputs": [
        {
          "output_type": "stream",
          "text": [
            "Intercept: \n",
            " 2.2491401603832286\n",
            "Coefficients: \n",
            " [0.59552475 0.47192004]\n"
          ],
          "name": "stdout"
        }
      ]
    },
    {
      "cell_type": "code",
      "metadata": {
        "colab": {
          "base_uri": "https://localhost:8080/"
        },
        "id": "0qTWS1eHLoTn",
        "outputId": "af8feb68-edfa-420d-e1eb-cf7c4ec9a7ba"
      },
      "source": [
        "New_Sepal_Width = 3.5\n",
        "New_Petal_Length = 5\n",
        "print ('Predicted Sepal Length (cm): \\n', regr.predict([[New_Sepal_Width , New_Petal_Length]]))"
      ],
      "execution_count": 3,
      "outputs": [
        {
          "output_type": "stream",
          "text": [
            "Predicted Sepal Length (cm): \n",
            " [6.69307698]\n"
          ],
          "name": "stdout"
        }
      ]
    },
    {
      "cell_type": "code",
      "metadata": {
        "colab": {
          "base_uri": "https://localhost:8080/"
        },
        "id": "Mj1Ke1_bLq-j",
        "outputId": "bdf0f4f1-c52b-4a5b-ac64-ad266143f774"
      },
      "source": [
        "X = sm.add_constant(X)\n",
        "\n",
        "model = sm.OLS(Y, X).fit()\n",
        "predictions = model.predict(X)\n",
        "\n",
        "print_model = model.summary()\n",
        "print(print_model)"
      ],
      "execution_count": 4,
      "outputs": [
        {
          "output_type": "stream",
          "text": [
            "                            OLS Regression Results                            \n",
            "==============================================================================\n",
            "Dep. Variable:      sepal length (cm)   R-squared:                       0.840\n",
            "Model:                            OLS   Adj. R-squared:                  0.838\n",
            "Method:                 Least Squares   F-statistic:                     386.4\n",
            "Date:                Tue, 08 Jun 2021   Prob (F-statistic):           2.93e-59\n",
            "Time:                        15:12:34   Log-Likelihood:                -46.513\n",
            "No. Observations:                 150   AIC:                             99.03\n",
            "Df Residuals:                     147   BIC:                             108.1\n",
            "Df Model:                           2                                         \n",
            "Covariance Type:            nonrobust                                         \n",
            "=====================================================================================\n",
            "                        coef    std err          t      P>|t|      [0.025      0.975]\n",
            "-------------------------------------------------------------------------------------\n",
            "const                 2.2491      0.248      9.070      0.000       1.759       2.739\n",
            "sepal width (cm)      0.5955      0.069      8.590      0.000       0.459       0.733\n",
            "petal length (cm)     0.4719      0.017     27.569      0.000       0.438       0.506\n",
            "==============================================================================\n",
            "Omnibus:                        0.164   Durbin-Watson:                   2.021\n",
            "Prob(Omnibus):                  0.921   Jarque-Bera (JB):                0.319\n",
            "Skew:                          -0.044   Prob(JB):                        0.853\n",
            "Kurtosis:                       2.792   Cond. No.                         48.3\n",
            "==============================================================================\n",
            "\n",
            "Warnings:\n",
            "[1] Standard Errors assume that the covariance matrix of the errors is correctly specified.\n"
          ],
          "name": "stdout"
        }
      ]
    }
  ]
}